{
 "cells": [
  {
   "cell_type": "markdown",
   "source": [
    "Install all necessary packages."
   ],
   "metadata": {
    "collapsed": false
   }
  },
  {
   "cell_type": "code",
   "execution_count": null,
   "metadata": {
    "collapsed": true
   },
   "outputs": [],
   "source": [
    "from PIL import Image as im\n",
    "import tensorflow as tf\n",
    "from tensorflow.keras import datasets, layers, Sequential, models\n",
    "import numpy as np"
   ]
  },
  {
   "cell_type": "markdown",
   "source": [
    "Set all initial values."
   ],
   "metadata": {
    "collapsed": false
   }
  },
  {
   "cell_type": "code",
   "execution_count": null,
   "outputs": [],
   "source": [
    "train_data_points = 1600\n",
    "test_data_points = 300\n",
    "total_data_points = train_data_points + test_data_points\n",
    "pixels = 50\n",
    "bins = 62\n",
    "mid_layer = 750\n",
    "training_iters = 10\n",
    "learning_rate = 2e-3\n",
    "batch_size = 512\n",
    "num_epochs = 1\n",
    "lr_reduction_factor = 0.5"
   ],
   "metadata": {
    "collapsed": false,
    "pycharm": {
     "name": "#%%\n"
    }
   }
  },
  {
   "cell_type": "markdown",
   "source": [
    "Function that reduces learning rate for every epoch."
   ],
   "metadata": {
    "collapsed": false
   }
  },
  {
   "cell_type": "code",
   "execution_count": null,
   "outputs": [],
   "source": [
    "class LearningRateReducerCb(tf.keras.callbacks.Callback):\n",
    "    def on_epoch_end(self, epoch, logs={}):\n",
    "        old_lr = self.model.optimizer.lr.read_value()\n",
    "        new_lr = old_lr * lr_reduction_factor\n",
    "        print(\"\\nEpoch: {}. Reducing Learning Rate from {} to {}\".format(epoch, old_lr, new_lr))\n",
    "        self.model.optimizer.lr.assign(new_lr)"
   ],
   "metadata": {
    "collapsed": false,
    "pycharm": {
     "name": "#%%\n"
    }
   }
  },
  {
   "cell_type": "markdown",
   "source": [
    "Converts machine output to human-readable output."
   ],
   "metadata": {
    "collapsed": false
   }
  },
  {
   "cell_type": "code",
   "execution_count": null,
   "outputs": [],
   "source": [
    "def convert_to_char(value):\n",
    "    if -1 < value < 10:\n",
    "        return chr(int(value))\n",
    "    elif 9 < value < 36:\n",
    "        return chr(int(value + 55))\n",
    "    elif 35 < value < 62:\n",
    "        return chr(int(value + 61))\n",
    "    else:\n",
    "        return 'Invalid input for convert_to_char()'"
   ],
   "metadata": {
    "collapsed": false,
    "pycharm": {
     "name": "#%%\n"
    }
   }
  },
  {
   "cell_type": "markdown",
   "source": [
    "Accept images as input and create an array of images"
   ],
   "metadata": {
    "collapsed": false
   }
  },
  {
   "cell_type": "code",
   "execution_count": null,
   "outputs": [],
   "source": [
    "images = []\n",
    "folder_path = \"C:/NN/NIST SD 19/DataSet/\"\n",
    "for i in range(48, 123):\n",
    "    if 47 < i < 58 or 64 < i < 91 or 96 < i < 123:\n",
    "        for j in range(total_data_points):\n",
    "            total_iterations = bins * total_data_points\n",
    "            p = -1\n",
    "            if 47 < i < 58:\n",
    "                p = np.round((((i - 48) * total_data_points + j) / total_iterations) * 100, 2)\n",
    "            elif 64 < i < 91:\n",
    "                p = np.round((((i - 55) * total_data_points + j) / total_iterations) * 100, 2)\n",
    "            elif 96 < i < 123:\n",
    "                p = np.round((((i - 61) * total_data_points + j) / total_iterations) * 100, 2)\n",
    "            print('\\r''Data loading:', p, '%', end='')\n",
    "\n",
    "            filename = folder_path + str(i) + \"-\" + str(j) + \".png\"\n",
    "            img = im.open(filename)\n",
    "            img = img.resize((pixels, pixels))\n",
    "            img = img.convert('L')\n",
    "            img_array = np.asarray(img)\n",
    "            images.append(img_array)\n",
    "            img.close()\n",
    "            img.close()\n",
    "\n",
    "print('\\n')"
   ],
   "metadata": {
    "collapsed": false,
    "pycharm": {
     "name": "#%%\n"
    }
   }
  },
  {
   "cell_type": "markdown",
   "source": [
    "Reshapes the images array into a numpy array and creates specific training labels for each image."
   ],
   "metadata": {
    "collapsed": false
   }
  },
  {
   "cell_type": "code",
   "execution_count": null,
   "outputs": [],
   "source": [
    "images_array = np.reshape(images, (bins, total_data_points, pixels, pixels))\n",
    "\n",
    "training_data = images_array[:, 0:train_data_points, :, :]\n",
    "training_data = np.reshape(training_data, (train_data_points * bins, pixels, pixels))\n",
    "\n",
    "test_data = images_array[:, train_data_points:total_data_points, :, :]\n",
    "test_data = np.reshape(test_data, (test_data_points * bins, pixels, pixels))\n",
    "\n",
    "training_labels = np.empty(0)\n",
    "test_labels = np.empty(0)\n",
    "for i in range(bins):\n",
    "    to_add = i * np.ones(train_data_points)\n",
    "    training_labels = np.append(training_labels, to_add)\n",
    "    to_add = i * np.ones(test_data_points)\n",
    "    test_labels = np.append(test_labels, to_add)\n",
    "\n",
    "training_data = training_data / 255.0\n",
    "test_data = test_data / 255.0"
   ],
   "metadata": {
    "collapsed": false,
    "pycharm": {
     "name": "#%%\n"
    }
   }
  },
  {
   "cell_type": "markdown",
   "source": [
    "Creates the CNN model."
   ],
   "metadata": {
    "collapsed": false
   }
  },
  {
   "cell_type": "code",
   "execution_count": null,
   "outputs": [],
   "source": [
    "model = models.Sequential()\n",
    "model.add(layers.Conv2D(pixels, (3, 3), activation='relu', input_shape=(pixels, pixels, 1)))\n",
    "model.add(layers.MaxPooling2D((2, 2)))\n",
    "model.add(layers.Conv2D(2 * pixels, (3, 3), activation='relu'))\n",
    "model.add(layers.MaxPooling2D((2, 2)))\n",
    "model.add(layers.Conv2D(2 * pixels, (3, 3), activation='relu'))\n",
    "model.add(layers.MaxPooling2D((2, 2)))\n",
    "\n",
    "model.add(layers.Flatten())\n",
    "model.add(layers.Dense(2 * pixels, activation='relu'))\n",
    "model.add(layers.Dense(62))\n",
    "\n",
    "opt = tf.keras.optimizers.Adam(learning_rate=learning_rate)"
   ],
   "metadata": {
    "collapsed": false,
    "pycharm": {
     "name": "#%%\n"
    }
   }
  },
  {
   "cell_type": "markdown",
   "source": [
    "Compiles the CNN and gives accuracy as output."
   ],
   "metadata": {
    "collapsed": false
   }
  },
  {
   "cell_type": "code",
   "execution_count": null,
   "outputs": [],
   "source": [
    "model.compile(optimizer=opt,\n",
    "              loss=tf.keras.losses.SparseCategoricalCrossentropy(from_logits=True),\n",
    "              metrics=['accuracy'])\n",
    "\n",
    "history = model.fit(training_data, training_labels, callbacks=[LearningRateReducerCb()], epochs=num_epochs,\n",
    "                    validation_data=(test_data, test_labels))\n",
    "\n",
    "test_loss, test_acc = model.evaluate(test_data, test_labels, verbose=2)\n",
    "print(\"Accuracy = \" + str(np.round(test_acc * 100, 3)) + \" %\")"
   ],
   "metadata": {
    "collapsed": false,
    "pycharm": {
     "name": "#%%\n"
    }
   }
  }
 ],
 "metadata": {
  "kernelspec": {
   "display_name": "Python 3",
   "language": "python",
   "name": "python3"
  },
  "language_info": {
   "codemirror_mode": {
    "name": "ipython",
    "version": 2
   },
   "file_extension": ".py",
   "mimetype": "text/x-python",
   "name": "python",
   "nbconvert_exporter": "python",
   "pygments_lexer": "ipython2",
   "version": "2.7.6"
  }
 },
 "nbformat": 4,
 "nbformat_minor": 0
}